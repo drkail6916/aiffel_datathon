{
 "cells": [
  {
   "cell_type": "markdown",
   "id": "c59066c2",
   "metadata": {},
   "source": [
    "# Lending Club loan data"
   ]
  },
  {
   "cell_type": "markdown",
   "id": "e6a3ae8f",
   "metadata": {},
   "source": [
    "## Library Import"
   ]
  },
  {
   "cell_type": "code",
   "execution_count": null,
   "id": "8ff34aff",
   "metadata": {},
   "outputs": [],
   "source": [
    "import numpy as np\n",
    "import pandas as pd\n",
    "\n",
    "import matplotlib.pyplot as plt\n",
    "import seaborn as sns"
   ]
  },
  {
   "cell_type": "markdown",
   "id": "7377e363",
   "metadata": {},
   "source": [
    "## Dataset Load"
   ]
  },
  {
   "cell_type": "code",
   "execution_count": null,
   "id": "ef0505d8",
   "metadata": {},
   "outputs": [],
   "source": [
    "df_2015 = pd.read_csv('data/LendingClub_loandata/2015.csv',\n",
    "                      low_memory=False,\n",
    "                      #  chunksize=1000000,\n",
    "                      )"
   ]
  },
  {
   "cell_type": "code",
   "execution_count": null,
   "id": "98a2ba76",
   "metadata": {},
   "outputs": [],
   "source": [
    "df_2015.info(verbose=True, show_counts=True)"
   ]
  },
  {
   "cell_type": "markdown",
   "id": "dba7a744",
   "metadata": {},
   "source": [
    "## Data Preprocessing"
   ]
  },
  {
   "cell_type": "markdown",
   "id": "9d3bdd26",
   "metadata": {},
   "source": [
    "### Drop Columns"
   ]
  },
  {
   "cell_type": "code",
   "execution_count": null,
   "id": "0142b6d7",
   "metadata": {},
   "outputs": [],
   "source": [
    "drop_cols = ['Unnamed: 0', 'id', 'member_id', 'issue_d', 'emp_title', 'pymnt_plan', 'url', 'desc', 'purpose', 'title', 'zip_code', 'addr_state', 'earliest_cr_line', 'fico_range_low', 'fico_range_high', 'mths_since_last_delinq', 'mths_since_last_record', 'open_acc', 'pub_rec', 'total_acc', 'recoveries', 'collection_recovery_fee', 'last_pymnt_d', 'next_pymnt_d', 'last_fico_range_high', 'last_fico_range_low', 'collections_12_mths_ex_med', 'mths_since_last_major_derog', 'policy_code', 'application_type', 'annual_inc_joint', 'dti_joint', 'verification_status_joint', 'open_acc_6m', 'open_act_il', 'open_il_12m', 'open_il_24m', 'mths_since_rcnt_il', 'total_bal_il', 'il_util', 'open_rv_12m', 'open_rv_24m', 'max_bal_bc', 'all_util', 'inq_fi', 'total_cu_tl', 'inq_last_12m', 'acc_open_past_24mths', 'bc_open_to_buy', 'bc_util', 'chargeoff_within_12_mths', 'mo_sin_old_il_acct', 'mths_since_recent_bc', 'mths_since_recent_bc_dlq', 'mths_since_recent_inq', 'mths_since_recent_revol_delinq', 'num_tl_120dpd_2m', 'pct_tl_nvr_dlq', 'percent_bc_gt_75', 'tax_liens', 'revol_bal_joint', 'sec_app_fico_range_low', 'sec_app_fico_range_high', 'sec_app_earliest_cr_line', 'sec_app_inq_last_6mths', 'sec_app_mort_acc', 'sec_app_open_acc', 'sec_app_revol_util', 'sec_app_open_act_il', 'sec_app_num_rev_accts', 'sec_app_chargeoff_within_12_mths', 'sec_app_collections_12_mths_ex_med', 'sec_app_mths_since_last_major_derog', 'hardship_flag', 'hardship_type', 'hardship_reason', 'hardship_status', 'deferral_term', 'hardship_amount', 'hardship_start_date', 'hardship_end_date', 'payment_plan_start_date', 'hardship_length', 'hardship_dpd', 'hardship_loan_status', 'orig_projected_additional_accrued_interest', 'hardship_payoff_balance_amount', 'hardship_last_payment_amount', 'disbursement_method', 'debt_settlement_flag', 'debt_settlement_flag_date', 'settlement_status', 'settlement_date', 'settlement_amount', 'settlement_percentage', 'settlement_term', 'year',\n",
    "             'last_credit_pull_d', 'verification_status', 'initial_list_status']"
   ]
  },
  {
   "cell_type": "code",
   "execution_count": null,
   "id": "22eeab69",
   "metadata": {},
   "outputs": [],
   "source": [
    "df_2015 = df_2015.drop(drop_cols, axis=1)"
   ]
  },
  {
   "cell_type": "code",
   "execution_count": null,
   "id": "132a0f02",
   "metadata": {},
   "outputs": [],
   "source": [
    "df_2015.columns"
   ]
  },
  {
   "cell_type": "code",
   "execution_count": null,
   "id": "97131a80",
   "metadata": {},
   "outputs": [],
   "source": [
    "df_2015.describe()"
   ]
  },
  {
   "cell_type": "code",
   "execution_count": null,
   "id": "5764e2cb",
   "metadata": {},
   "outputs": [],
   "source": [
    "df_2015.describe(include='object')"
   ]
  },
  {
   "cell_type": "markdown",
   "id": "3a1ea580",
   "metadata": {},
   "source": [
    "### Categories to Numeric"
   ]
  },
  {
   "cell_type": "markdown",
   "id": "ebcef60b",
   "metadata": {},
   "source": [
    "- `sub_grade` 컬럼, 수치형 변환"
   ]
  },
  {
   "cell_type": "code",
   "execution_count": null,
   "id": "2ef9ce6f",
   "metadata": {},
   "outputs": [],
   "source": [
    "df_2015['sub_grade'].unique()"
   ]
  },
  {
   "cell_type": "code",
   "execution_count": null,
   "id": "8b9ae12f",
   "metadata": {},
   "outputs": [],
   "source": [
    "grade_list = sorted(df_2015['sub_grade'].unique().tolist())\n",
    "score_list = [x for x in range(len(grade_list), 0, -1)]\n",
    "\n",
    "grade_map = dict(zip(grade_list, score_list))\n",
    "\n",
    "df_2015['sub_grade_score'] = df_2015['sub_grade'].map(grade_map)"
   ]
  },
  {
   "cell_type": "code",
   "execution_count": null,
   "id": "01ae1ffa",
   "metadata": {},
   "outputs": [],
   "source": [
    "df_2015 = df_2015.drop('sub_grade', axis=1)"
   ]
  },
  {
   "cell_type": "markdown",
   "id": "f4acc3e7",
   "metadata": {},
   "source": [
    "- `emp_length` 컬럼, 수치형으로 변환"
   ]
  },
  {
   "cell_type": "code",
   "execution_count": null,
   "id": "0e1dfb20",
   "metadata": {},
   "outputs": [],
   "source": [
    "## nan 확인\n",
    "\n",
    "df_2015['emp_length'].unique()"
   ]
  },
  {
   "cell_type": "code",
   "execution_count": null,
   "id": "80a8c361",
   "metadata": {},
   "outputs": [],
   "source": [
    "## emp_length의 nan 데이터 제외\n",
    "\n",
    "df_2015 = df_2015[ df_2015['emp_length'].notna() ]"
   ]
  },
  {
   "cell_type": "code",
   "execution_count": null,
   "id": "563a3ba8",
   "metadata": {},
   "outputs": [],
   "source": [
    "emp_length_map = {'< 1 year': 0,\n",
    "                  '1 year': 1,\n",
    "                  '2 years': 2,\n",
    "                  '3 years': 3,\n",
    "                  '4 years': 4,\n",
    "                  '5 years': 5,\n",
    "                  '6 years': 6,\n",
    "                  '7 years': 7,\n",
    "                  '8 years': 8,\n",
    "                  '9 years': 9,\n",
    "                  '10+ years': 10\n",
    "                  }\n",
    "\n",
    "df_2015['emp_length_score'] = df_2015['emp_length'].map(emp_length_map)"
   ]
  },
  {
   "cell_type": "code",
   "execution_count": null,
   "id": "7823c1db",
   "metadata": {},
   "outputs": [],
   "source": [
    "df_2015 = df_2015.drop('emp_length', axis=1)"
   ]
  },
  {
   "cell_type": "code",
   "execution_count": null,
   "id": "0e08a87b",
   "metadata": {},
   "outputs": [],
   "source": [
    "df_2015.describe()"
   ]
  },
  {
   "cell_type": "code",
   "execution_count": null,
   "id": "716c7218",
   "metadata": {},
   "outputs": [],
   "source": [
    "df_2015.describe(include='object')"
   ]
  },
  {
   "cell_type": "markdown",
   "id": "f75a2f06",
   "metadata": {},
   "source": [
    "### One-hot encoding"
   ]
  },
  {
   "cell_type": "code",
   "execution_count": null,
   "id": "b3109e0b",
   "metadata": {},
   "outputs": [],
   "source": [
    "onehot_cols = ['term', 'grade', 'home_ownership']"
   ]
  },
  {
   "cell_type": "code",
   "execution_count": null,
   "id": "acabf060",
   "metadata": {},
   "outputs": [],
   "source": [
    "df_2015 = pd.get_dummies(df_2015, columns=onehot_cols, drop_first=True, dtype=int)"
   ]
  },
  {
   "cell_type": "code",
   "execution_count": null,
   "id": "dce21f3c",
   "metadata": {},
   "outputs": [],
   "source": []
  },
  {
   "cell_type": "code",
   "execution_count": null,
   "id": "20873984",
   "metadata": {},
   "outputs": [],
   "source": []
  },
  {
   "cell_type": "code",
   "execution_count": null,
   "id": "03e8dd36",
   "metadata": {},
   "outputs": [],
   "source": []
  },
  {
   "cell_type": "code",
   "execution_count": null,
   "id": "69cae6b3",
   "metadata": {},
   "outputs": [],
   "source": [
    "df_2015['loan_status'].unique()"
   ]
  },
  {
   "cell_type": "code",
   "execution_count": null,
   "id": "62504967",
   "metadata": {},
   "outputs": [],
   "source": []
  },
  {
   "cell_type": "code",
   "execution_count": null,
   "id": "afb756f0",
   "metadata": {},
   "outputs": [],
   "source": []
  },
  {
   "cell_type": "markdown",
   "id": "8a7579c6",
   "metadata": {},
   "source": [
    "- 2015년 주별 GDP(?)와 2015년 주별 대출 비율의 상관관계?"
   ]
  },
  {
   "cell_type": "code",
   "execution_count": null,
   "id": "edb21df3",
   "metadata": {},
   "outputs": [],
   "source": [
    "df_2015.describe()"
   ]
  },
  {
   "cell_type": "code",
   "execution_count": null,
   "id": "47c337d6",
   "metadata": {},
   "outputs": [],
   "source": [
    "df_2015['pymnt_plan'].value_counts()"
   ]
  },
  {
   "cell_type": "code",
   "execution_count": null,
   "id": "3e6b4bca",
   "metadata": {},
   "outputs": [],
   "source": [
    "df_2015['term'].unique()"
   ]
  },
  {
   "cell_type": "code",
   "execution_count": null,
   "id": "13b339b1",
   "metadata": {},
   "outputs": [],
   "source": [
    "len(df_2015['sub_grade'].unique())"
   ]
  },
  {
   "cell_type": "code",
   "execution_count": null,
   "id": "8212ea01",
   "metadata": {},
   "outputs": [],
   "source": [
    "df_2015['sub_grade'].value_counts()"
   ]
  }
 ],
 "metadata": {
  "kernelspec": {
   "display_name": ".venv (3.12.3)",
   "language": "python",
   "name": "python3"
  },
  "language_info": {
   "codemirror_mode": {
    "name": "ipython",
    "version": 3
   },
   "file_extension": ".py",
   "mimetype": "text/x-python",
   "name": "python",
   "nbconvert_exporter": "python",
   "pygments_lexer": "ipython3",
   "version": "3.12.3"
  }
 },
 "nbformat": 4,
 "nbformat_minor": 5
}
