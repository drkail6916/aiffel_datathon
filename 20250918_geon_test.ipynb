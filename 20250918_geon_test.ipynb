{
 "cells": [
  {
   "cell_type": "markdown",
   "id": "f768fe74",
   "metadata": {},
   "source": [
    "# Lending Club loan data"
   ]
  },
  {
   "cell_type": "markdown",
   "id": "a227b904",
   "metadata": {},
   "source": [
    "## import library"
   ]
  },
  {
   "cell_type": "code",
   "execution_count": 1,
   "id": "1d36e283",
   "metadata": {},
   "outputs": [],
   "source": [
    "import numpy as np\n",
    "import pandas as pd\n",
    "\n",
    "import matplotlib.pyplot as plt\n",
    "import seaborn as sns"
   ]
  },
  {
   "cell_type": "markdown",
   "id": "50febb3e",
   "metadata": {},
   "source": [
    "## load dataset"
   ]
  },
  {
   "cell_type": "code",
   "execution_count": 57,
   "id": "88c3345a",
   "metadata": {},
   "outputs": [
    {
     "name": "stdout",
     "output_type": "stream",
     "text": [
      "<class 'pandas.core.frame.DataFrame'>\n",
      "RangeIndex: 421095 entries, 0 to 421094\n",
      "Data columns (total 153 columns):\n",
      " #    Column                                      Non-Null Count   Dtype  \n",
      "---   ------                                      --------------   -----  \n",
      " 0    Unnamed: 0                                  421095 non-null  int64  \n",
      " 1    id                                          421095 non-null  int64  \n",
      " 2    member_id                                   0 non-null       float64\n",
      " 3    loan_amnt                                   421095 non-null  float64\n",
      " 4    funded_amnt                                 421095 non-null  float64\n",
      " 5    funded_amnt_inv                             421095 non-null  float64\n",
      " 6    term                                        421095 non-null  object \n",
      " 7    int_rate                                    421095 non-null  float64\n",
      " 8    installment                                 421095 non-null  float64\n",
      " 9    grade                                       421095 non-null  object \n",
      " 10   sub_grade                                   421095 non-null  object \n",
      " 11   emp_title                                   397221 non-null  object \n",
      " 12   emp_length                                  397278 non-null  object \n",
      " 13   home_ownership                              421095 non-null  object \n",
      " 14   annual_inc                                  421095 non-null  float64\n",
      " 15   verification_status                         421095 non-null  object \n",
      " 16   issue_d                                     421095 non-null  object \n",
      " 17   loan_status                                 421095 non-null  object \n",
      " 18   pymnt_plan                                  421095 non-null  object \n",
      " 19   url                                         421095 non-null  object \n",
      " 20   desc                                        45 non-null      object \n",
      " 21   purpose                                     421095 non-null  object \n",
      " 22   title                                       420963 non-null  object \n",
      " 23   zip_code                                    421095 non-null  object \n",
      " 24   addr_state                                  421095 non-null  object \n",
      " 25   dti                                         421093 non-null  float64\n",
      " 26   delinq_2yrs                                 421095 non-null  float64\n",
      " 27   earliest_cr_line                            421095 non-null  object \n",
      " 28   fico_range_low                              421095 non-null  float64\n",
      " 29   fico_range_high                             421095 non-null  float64\n",
      " 30   inq_last_6mths                              421095 non-null  float64\n",
      " 31   mths_since_last_delinq                      217133 non-null  float64\n",
      " 32   mths_since_last_record                      74415 non-null   float64\n",
      " 33   open_acc                                    421095 non-null  float64\n",
      " 34   pub_rec                                     421095 non-null  float64\n",
      " 35   revol_bal                                   421095 non-null  float64\n",
      " 36   revol_util                                  420933 non-null  float64\n",
      " 37   total_acc                                   421095 non-null  float64\n",
      " 38   initial_list_status                         421095 non-null  object \n",
      " 39   out_prncp                                   421095 non-null  float64\n",
      " 40   out_prncp_inv                               421095 non-null  float64\n",
      " 41   total_pymnt                                 421095 non-null  float64\n",
      " 42   total_pymnt_inv                             421095 non-null  float64\n",
      " 43   total_rec_prncp                             421095 non-null  float64\n",
      " 44   total_rec_int                               421095 non-null  float64\n",
      " 45   total_rec_late_fee                          421095 non-null  float64\n",
      " 46   recoveries                                  421095 non-null  float64\n",
      " 47   collection_recovery_fee                     421095 non-null  float64\n",
      " 48   last_pymnt_d                                420801 non-null  object \n",
      " 49   last_pymnt_amnt                             421095 non-null  float64\n",
      " 50   next_pymnt_d                                45550 non-null   object \n",
      " 51   last_credit_pull_d                          421088 non-null  object \n",
      " 52   last_fico_range_high                        421095 non-null  float64\n",
      " 53   last_fico_range_low                         421095 non-null  float64\n",
      " 54   collections_12_mths_ex_med                  421095 non-null  float64\n",
      " 55   mths_since_last_major_derog                 122729 non-null  float64\n",
      " 56   policy_code                                 421095 non-null  float64\n",
      " 57   application_type                            421095 non-null  object \n",
      " 58   annual_inc_joint                            511 non-null     float64\n",
      " 59   dti_joint                                   509 non-null     float64\n",
      " 60   verification_status_joint                   511 non-null     object \n",
      " 61   acc_now_delinq                              421095 non-null  float64\n",
      " 62   tot_coll_amt                                421095 non-null  float64\n",
      " 63   tot_cur_bal                                 421095 non-null  float64\n",
      " 64   open_acc_6m                                 21372 non-null   float64\n",
      " 65   open_act_il                                 21372 non-null   float64\n",
      " 66   open_il_12m                                 21372 non-null   float64\n",
      " 67   open_il_24m                                 21372 non-null   float64\n",
      " 68   mths_since_rcnt_il                          20810 non-null   float64\n",
      " 69   total_bal_il                                21372 non-null   float64\n",
      " 70   il_util                                     18617 non-null   float64\n",
      " 71   open_rv_12m                                 21372 non-null   float64\n",
      " 72   open_rv_24m                                 21372 non-null   float64\n",
      " 73   max_bal_bc                                  21372 non-null   float64\n",
      " 74   all_util                                    21372 non-null   float64\n",
      " 75   total_rev_hi_lim                            421095 non-null  float64\n",
      " 76   inq_fi                                      21372 non-null   float64\n",
      " 77   total_cu_tl                                 21372 non-null   float64\n",
      " 78   inq_last_12m                                21372 non-null   float64\n",
      " 79   acc_open_past_24mths                        421095 non-null  float64\n",
      " 80   avg_cur_bal                                 421095 non-null  float64\n",
      " 81   bc_open_to_buy                              417132 non-null  float64\n",
      " 82   bc_util                                     416868 non-null  float64\n",
      " 83   chargeoff_within_12_mths                    421095 non-null  float64\n",
      " 84   delinq_amnt                                 421095 non-null  float64\n",
      " 85   mo_sin_old_il_acct                          408841 non-null  float64\n",
      " 86   mo_sin_old_rev_tl_op                        421095 non-null  float64\n",
      " 87   mo_sin_rcnt_rev_tl_op                       421095 non-null  float64\n",
      " 88   mo_sin_rcnt_tl                              421095 non-null  float64\n",
      " 89   mort_acc                                    421095 non-null  float64\n",
      " 90   mths_since_recent_bc                        417297 non-null  float64\n",
      " 91   mths_since_recent_bc_dlq                    108600 non-null  float64\n",
      " 92   mths_since_recent_inq                       376496 non-null  float64\n",
      " 93   mths_since_recent_revol_delinq              151737 non-null  float64\n",
      " 94   num_accts_ever_120_pd                       421095 non-null  float64\n",
      " 95   num_actv_bc_tl                              421095 non-null  float64\n",
      " 96   num_actv_rev_tl                             421095 non-null  float64\n",
      " 97   num_bc_sats                                 421095 non-null  float64\n",
      " 98   num_bc_tl                                   421095 non-null  float64\n",
      " 99   num_il_tl                                   421095 non-null  float64\n",
      " 100  num_op_rev_tl                               421095 non-null  float64\n",
      " 101  num_rev_accts                               421094 non-null  float64\n",
      " 102  num_rev_tl_bal_gt_0                         421095 non-null  float64\n",
      " 103  num_sats                                    421095 non-null  float64\n",
      " 104  num_tl_120dpd_2m                            401865 non-null  float64\n",
      " 105  num_tl_30dpd                                421095 non-null  float64\n",
      " 106  num_tl_90g_dpd_24m                          421095 non-null  float64\n",
      " 107  num_tl_op_past_12m                          421095 non-null  float64\n",
      " 108  pct_tl_nvr_dlq                              421095 non-null  float64\n",
      " 109  percent_bc_gt_75                            416856 non-null  float64\n",
      " 110  pub_rec_bankruptcies                        421095 non-null  float64\n",
      " 111  tax_liens                                   421095 non-null  float64\n",
      " 112  tot_hi_cred_lim                             421095 non-null  float64\n",
      " 113  total_bal_ex_mort                           421095 non-null  float64\n",
      " 114  total_bc_limit                              421095 non-null  float64\n",
      " 115  total_il_high_credit_limit                  421095 non-null  float64\n",
      " 116  revol_bal_joint                             0 non-null       float64\n",
      " 117  sec_app_fico_range_low                      0 non-null       float64\n",
      " 118  sec_app_fico_range_high                     0 non-null       float64\n",
      " 119  sec_app_earliest_cr_line                    0 non-null       float64\n",
      " 120  sec_app_inq_last_6mths                      0 non-null       float64\n",
      " 121  sec_app_mort_acc                            0 non-null       float64\n",
      " 122  sec_app_open_acc                            0 non-null       float64\n",
      " 123  sec_app_revol_util                          0 non-null       float64\n",
      " 124  sec_app_open_act_il                         0 non-null       float64\n",
      " 125  sec_app_num_rev_accts                       0 non-null       float64\n",
      " 126  sec_app_chargeoff_within_12_mths            0 non-null       float64\n",
      " 127  sec_app_collections_12_mths_ex_med          0 non-null       float64\n",
      " 128  sec_app_mths_since_last_major_derog         0 non-null       float64\n",
      " 129  hardship_flag                               421095 non-null  object \n",
      " 130  hardship_type                               2580 non-null    object \n",
      " 131  hardship_reason                             2580 non-null    object \n",
      " 132  hardship_status                             2580 non-null    object \n",
      " 133  deferral_term                               2580 non-null    float64\n",
      " 134  hardship_amount                             2580 non-null    float64\n",
      " 135  hardship_start_date                         2580 non-null    object \n",
      " 136  hardship_end_date                           2580 non-null    object \n",
      " 137  payment_plan_start_date                     2580 non-null    object \n",
      " 138  hardship_length                             2580 non-null    float64\n",
      " 139  hardship_dpd                                2580 non-null    float64\n",
      " 140  hardship_loan_status                        2580 non-null    object \n",
      " 141  orig_projected_additional_accrued_interest  2097 non-null    float64\n",
      " 142  hardship_payoff_balance_amount              2580 non-null    float64\n",
      " 143  hardship_last_payment_amount                2580 non-null    float64\n",
      " 144  disbursement_method                         421095 non-null  object \n",
      " 145  debt_settlement_flag                        421095 non-null  object \n",
      " 146  debt_settlement_flag_date                   11552 non-null   object \n",
      " 147  settlement_status                           11552 non-null   object \n",
      " 148  settlement_date                             11552 non-null   object \n",
      " 149  settlement_amount                           11552 non-null   float64\n",
      " 150  settlement_percentage                       11552 non-null   float64\n",
      " 151  settlement_term                             11552 non-null   float64\n",
      " 152  year                                        421095 non-null  int64  \n",
      "dtypes: float64(114), int64(3), object(36)\n",
      "memory usage: 491.5+ MB\n"
     ]
    }
   ],
   "source": [
    "df_origin = pd.read_csv('data/LendingClub_loandata/2015.csv',\n",
    "                        low_memory=False\n",
    "                        )\n",
    "\n",
    "df_origin.info(verbose=True, show_counts=True)"
   ]
  },
  {
   "cell_type": "markdown",
   "id": "6897e1f4",
   "metadata": {},
   "source": [
    "## feature selecting: minimum"
   ]
  },
  {
   "cell_type": "code",
   "execution_count": 101,
   "id": "1b2c4938",
   "metadata": {},
   "outputs": [],
   "source": [
    "select_cols = ['loan_status',\n",
    "               'annual_inc', 'dti', 'loan_amnt', 'revol_bal', 'revol_util', ## 수치형 변수\n",
    "               'term', 'grade', 'home_ownership', ## 범주형 변수: 원핫 인코딩 대상\n",
    "               'emp_length', 'sub_grade' ## 범주형 변수: 전처리 및 수치형 변수 변환\n",
    "               ]"
   ]
  },
  {
   "cell_type": "code",
   "execution_count": 103,
   "id": "0a102e3f",
   "metadata": {},
   "outputs": [
    {
     "name": "stdout",
     "output_type": "stream",
     "text": [
      "<class 'pandas.core.frame.DataFrame'>\n",
      "RangeIndex: 421095 entries, 0 to 421094\n",
      "Data columns (total 11 columns):\n",
      " #   Column          Non-Null Count   Dtype  \n",
      "---  ------          --------------   -----  \n",
      " 0   loan_status     421095 non-null  object \n",
      " 1   annual_inc      421095 non-null  float64\n",
      " 2   dti             421093 non-null  float64\n",
      " 3   loan_amnt       421095 non-null  float64\n",
      " 4   revol_bal       421095 non-null  float64\n",
      " 5   revol_util      420933 non-null  float64\n",
      " 6   term            421095 non-null  object \n",
      " 7   grade           421095 non-null  object \n",
      " 8   home_ownership  421095 non-null  object \n",
      " 9   emp_length      397278 non-null  object \n",
      " 10  sub_grade       421095 non-null  object \n",
      "dtypes: float64(5), object(6)\n",
      "memory usage: 35.3+ MB\n"
     ]
    }
   ],
   "source": [
    "df = df_origin[ select_cols ]\n",
    "\n",
    "df.info()"
   ]
  },
  {
   "cell_type": "markdown",
   "id": "62806422",
   "metadata": {},
   "source": [
    "## drop NaN"
   ]
  },
  {
   "cell_type": "code",
   "execution_count": 104,
   "id": "e3d4321c",
   "metadata": {},
   "outputs": [
    {
     "name": "stdout",
     "output_type": "stream",
     "text": [
      "<class 'pandas.core.frame.DataFrame'>\n",
      "RangeIndex: 397119 entries, 0 to 397118\n",
      "Data columns (total 11 columns):\n",
      " #   Column          Non-Null Count   Dtype  \n",
      "---  ------          --------------   -----  \n",
      " 0   loan_status     397119 non-null  object \n",
      " 1   annual_inc      397119 non-null  float64\n",
      " 2   dti             397119 non-null  float64\n",
      " 3   loan_amnt       397119 non-null  float64\n",
      " 4   revol_bal       397119 non-null  float64\n",
      " 5   revol_util      397119 non-null  float64\n",
      " 6   term            397119 non-null  object \n",
      " 7   grade           397119 non-null  object \n",
      " 8   home_ownership  397119 non-null  object \n",
      " 9   emp_length      397119 non-null  object \n",
      " 10  sub_grade       397119 non-null  object \n",
      "dtypes: float64(5), object(6)\n",
      "memory usage: 33.3+ MB\n"
     ]
    }
   ],
   "source": [
    "df = df.dropna()\n",
    "df = df.reset_index(drop=True)\n",
    "\n",
    "df.info()"
   ]
  },
  {
   "cell_type": "markdown",
   "id": "63c2b82e",
   "metadata": {},
   "source": [
    "## one-hot encoding"
   ]
  },
  {
   "cell_type": "code",
   "execution_count": 105,
   "id": "3a061dc6",
   "metadata": {},
   "outputs": [
    {
     "name": "stdout",
     "output_type": "stream",
     "text": [
      "<class 'pandas.core.frame.DataFrame'>\n",
      "RangeIndex: 397119 entries, 0 to 397118\n",
      "Data columns (total 18 columns):\n",
      " #   Column                   Non-Null Count   Dtype  \n",
      "---  ------                   --------------   -----  \n",
      " 0   loan_status              397119 non-null  object \n",
      " 1   annual_inc               397119 non-null  float64\n",
      " 2   dti                      397119 non-null  float64\n",
      " 3   loan_amnt                397119 non-null  float64\n",
      " 4   revol_bal                397119 non-null  float64\n",
      " 5   revol_util               397119 non-null  float64\n",
      " 6   emp_length               397119 non-null  object \n",
      " 7   sub_grade                397119 non-null  object \n",
      " 8   term_ 60 months          397119 non-null  int64  \n",
      " 9   grade_B                  397119 non-null  int64  \n",
      " 10  grade_C                  397119 non-null  int64  \n",
      " 11  grade_D                  397119 non-null  int64  \n",
      " 12  grade_E                  397119 non-null  int64  \n",
      " 13  grade_F                  397119 non-null  int64  \n",
      " 14  grade_G                  397119 non-null  int64  \n",
      " 15  home_ownership_MORTGAGE  397119 non-null  int64  \n",
      " 16  home_ownership_OWN       397119 non-null  int64  \n",
      " 17  home_ownership_RENT      397119 non-null  int64  \n",
      "dtypes: float64(5), int64(10), object(3)\n",
      "memory usage: 54.5+ MB\n"
     ]
    }
   ],
   "source": [
    "df = pd.get_dummies(df, columns=['term', 'grade', 'home_ownership',],\n",
    "                    drop_first=True, dtype=int)\n",
    "\n",
    "df.info()"
   ]
  },
  {
   "cell_type": "markdown",
   "id": "5a8a9ebc",
   "metadata": {},
   "source": [
    "## to numeric"
   ]
  },
  {
   "cell_type": "code",
   "execution_count": 106,
   "id": "f67cae1b",
   "metadata": {},
   "outputs": [],
   "source": [
    "grade_list = sorted(df['sub_grade'].unique().tolist())\n",
    "score_list = [x for x in range(len(grade_list), 0, -1)]\n",
    "\n",
    "grade_map = dict(zip(grade_list, score_list))\n",
    "df['sub_grade_score'] = df['sub_grade'].map(grade_map)\n",
    "\n",
    "df = df.drop('sub_grade', axis=1)\n",
    "df = df.reset_index(drop=True)"
   ]
  },
  {
   "cell_type": "code",
   "execution_count": 107,
   "id": "f67157be",
   "metadata": {},
   "outputs": [],
   "source": [
    "emp_length_map = {'< 1 year': 0,\n",
    "                  '1 year': 1,\n",
    "                  '2 years': 2,\n",
    "                  '3 years': 3,\n",
    "                  '4 years': 4,\n",
    "                  '5 years': 5,\n",
    "                  '6 years': 6,\n",
    "                  '7 years': 7,\n",
    "                  '8 years': 8,\n",
    "                  '9 years': 9,\n",
    "                  '10+ years': 10\n",
    "                  }\n",
    "\n",
    "df['emp_length_score'] = df['emp_length'].map(emp_length_map)\n",
    "\n",
    "df = df.drop('emp_length', axis=1)\n",
    "df = df.reset_index(drop=True)"
   ]
  },
  {
   "cell_type": "markdown",
   "id": "9132a6d2",
   "metadata": {},
   "source": [
    "## target setting"
   ]
  },
  {
   "cell_type": "code",
   "execution_count": 108,
   "id": "19fe5884",
   "metadata": {},
   "outputs": [],
   "source": [
    "df = df.loc[ df['loan_status']!='In Grace Period' , ]\n",
    "\n",
    "status_map = {'Fully Paid': 0,\n",
    "              'Current': 0,\n",
    "              'Charged Off': 1,\n",
    "            #   'In Grace Period': 1,\n",
    "              'Late (31-120 days)': 1,\n",
    "              'Late (16-30 days)': 1,\n",
    "              'Default': 1,\n",
    "              }\n",
    "\n",
    "df['loan_status'] = df['loan_status'].map(status_map)\n",
    "\n",
    "df = df.reset_index(drop=True)"
   ]
  },
  {
   "cell_type": "markdown",
   "id": "af44bcd0",
   "metadata": {},
   "source": [
    "## dataset split"
   ]
  },
  {
   "cell_type": "code",
   "execution_count": 109,
   "id": "b70dae8b",
   "metadata": {},
   "outputs": [],
   "source": [
    "y = df['loan_status']\n",
    "x = df.drop('loan_status', axis=1)"
   ]
  },
  {
   "cell_type": "code",
   "execution_count": 110,
   "id": "960a028b",
   "metadata": {},
   "outputs": [],
   "source": [
    "from sklearn.model_selection import train_test_split\n",
    "\n",
    "x_train, x_test, y_train, y_test = train_test_split(x, y, test_size=0.2, random_state=42, stratify=y)"
   ]
  },
  {
   "cell_type": "markdown",
   "id": "e94f3d96",
   "metadata": {},
   "source": [
    "## data scaling"
   ]
  },
  {
   "cell_type": "code",
   "execution_count": 111,
   "id": "aaecd251",
   "metadata": {},
   "outputs": [],
   "source": [
    "from sklearn.preprocessing import MinMaxScaler\n",
    "\n",
    "mm_scaler = MinMaxScaler()\n",
    "\n",
    "x_train_mm = mm_scaler.fit_transform(x_train)\n",
    "x_test_mm = mm_scaler.transform(x_test)"
   ]
  },
  {
   "cell_type": "markdown",
   "id": "e96f99f3",
   "metadata": {},
   "source": [
    "## modeling"
   ]
  },
  {
   "cell_type": "code",
   "execution_count": 118,
   "id": "2ee98d36",
   "metadata": {},
   "outputs": [],
   "source": [
    "from sklearn.linear_model import LogisticRegression\n",
    "from sklearn.ensemble import RandomForestClassifier\n",
    "from xgboost import XGBClassifier\n",
    "\n",
    "model_lr = LogisticRegression()\n",
    "model_rfc = RandomForestClassifier()\n",
    "model_xgbc = XGBClassifier()\n",
    "\n",
    "# model_lr.fit(x_train, y_train)\n",
    "# model_rfc.fit(x_train, y_train)\n",
    "# model_xgbc.fit(x_train, y_train)\n",
    "\n",
    "model_lr.fit(x_train_mm, y_train)\n",
    "model_rfc.fit(x_train_mm, y_train)\n",
    "model_xgbc.fit(x_train_mm, y_train)\n",
    "\n",
    "\n",
    "# y_pred_lr = model_lr.predict(x_test)\n",
    "# y_pred_rfc = model_rfc.predict(x_test)\n",
    "# y_pred_xgbc = model_xgbc.predict(x_test)\n",
    "\n",
    "y_pred_lr = model_lr.predict(x_test_mm)\n",
    "y_pred_rfc = model_rfc.predict(x_test_mm)\n",
    "y_pred_xgbc = model_xgbc.predict(x_test_mm)"
   ]
  },
  {
   "cell_type": "markdown",
   "id": "59dcf32e",
   "metadata": {},
   "source": [
    "## metrics"
   ]
  },
  {
   "cell_type": "code",
   "execution_count": 15,
   "id": "bfba34d7",
   "metadata": {},
   "outputs": [],
   "source": [
    "from sklearn.metrics import classification_report"
   ]
  },
  {
   "cell_type": "code",
   "execution_count": 16,
   "id": "6052a18b",
   "metadata": {},
   "outputs": [
    {
     "name": "stdout",
     "output_type": "stream",
     "text": [
      "Results: Logistic Regression\n",
      "Scaling: X\n",
      "Using cols: ['annual_inc']\n",
      "---------------------------\n",
      "              precision    recall  f1-score   support\n",
      "\n",
      "           0       0.82      1.00      0.90     68609\n",
      "           1       0.00      0.00      0.00     15488\n",
      "\n",
      "    accuracy                           0.82     84097\n",
      "   macro avg       0.41      0.50      0.45     84097\n",
      "weighted avg       0.67      0.82      0.73     84097\n",
      "\n"
     ]
    },
    {
     "name": "stderr",
     "output_type": "stream",
     "text": [
      "/home/drkail/projects/aiffel_datathon/.venv/lib/python3.12/site-packages/sklearn/metrics/_classification.py:1731: UndefinedMetricWarning: Precision is ill-defined and being set to 0.0 in labels with no predicted samples. Use `zero_division` parameter to control this behavior.\n",
      "  _warn_prf(average, modifier, f\"{metric.capitalize()} is\", result.shape[0])\n",
      "/home/drkail/projects/aiffel_datathon/.venv/lib/python3.12/site-packages/sklearn/metrics/_classification.py:1731: UndefinedMetricWarning: Precision is ill-defined and being set to 0.0 in labels with no predicted samples. Use `zero_division` parameter to control this behavior.\n",
      "  _warn_prf(average, modifier, f\"{metric.capitalize()} is\", result.shape[0])\n",
      "/home/drkail/projects/aiffel_datathon/.venv/lib/python3.12/site-packages/sklearn/metrics/_classification.py:1731: UndefinedMetricWarning: Precision is ill-defined and being set to 0.0 in labels with no predicted samples. Use `zero_division` parameter to control this behavior.\n",
      "  _warn_prf(average, modifier, f\"{metric.capitalize()} is\", result.shape[0])\n"
     ]
    }
   ],
   "source": [
    "print('Results: Logistic Regression')\n",
    "print('Scaling: X')\n",
    "print(f'Using cols: {select_cols[1:]}')\n",
    "print('---------------------------')\n",
    "\n",
    "print(classification_report(y_test, y_pred_lr))"
   ]
  },
  {
   "cell_type": "code",
   "execution_count": 18,
   "id": "4be93d6f",
   "metadata": {},
   "outputs": [
    {
     "name": "stdout",
     "output_type": "stream",
     "text": [
      "Results: Logistic Regression\n",
      "Scaling: min-max\n",
      "Using cols: ['annual_inc']\n",
      "---------------------------\n",
      "              precision    recall  f1-score   support\n",
      "\n",
      "           0       0.82      1.00      0.90     68609\n",
      "           1       0.00      0.00      0.00     15488\n",
      "\n",
      "    accuracy                           0.82     84097\n",
      "   macro avg       0.41      0.50      0.45     84097\n",
      "weighted avg       0.67      0.82      0.73     84097\n",
      "\n"
     ]
    },
    {
     "name": "stderr",
     "output_type": "stream",
     "text": [
      "/home/drkail/projects/aiffel_datathon/.venv/lib/python3.12/site-packages/sklearn/metrics/_classification.py:1731: UndefinedMetricWarning: Precision is ill-defined and being set to 0.0 in labels with no predicted samples. Use `zero_division` parameter to control this behavior.\n",
      "  _warn_prf(average, modifier, f\"{metric.capitalize()} is\", result.shape[0])\n",
      "/home/drkail/projects/aiffel_datathon/.venv/lib/python3.12/site-packages/sklearn/metrics/_classification.py:1731: UndefinedMetricWarning: Precision is ill-defined and being set to 0.0 in labels with no predicted samples. Use `zero_division` parameter to control this behavior.\n",
      "  _warn_prf(average, modifier, f\"{metric.capitalize()} is\", result.shape[0])\n",
      "/home/drkail/projects/aiffel_datathon/.venv/lib/python3.12/site-packages/sklearn/metrics/_classification.py:1731: UndefinedMetricWarning: Precision is ill-defined and being set to 0.0 in labels with no predicted samples. Use `zero_division` parameter to control this behavior.\n",
      "  _warn_prf(average, modifier, f\"{metric.capitalize()} is\", result.shape[0])\n"
     ]
    }
   ],
   "source": [
    "print('Results: Logistic Regression')\n",
    "print('Scaling: min-max')\n",
    "print(f'Using cols: {select_cols[1:]}')\n",
    "print('---------------------------')\n",
    "\n",
    "print(classification_report(y_test, y_pred_lr))"
   ]
  },
  {
   "cell_type": "code",
   "execution_count": 41,
   "id": "5501dedc",
   "metadata": {},
   "outputs": [
    {
     "name": "stdout",
     "output_type": "stream",
     "text": [
      "Results: Logistic Regression\n",
      "Scaling: X\n",
      "Using cols: ['annual_inc', 'dti']\n",
      "---------------------------\n",
      "              precision    recall  f1-score   support\n",
      "\n",
      "           0       0.82      1.00      0.90     68609\n",
      "           1       0.00      0.00      0.00     15488\n",
      "\n",
      "    accuracy                           0.82     84097\n",
      "   macro avg       0.41      0.50      0.45     84097\n",
      "weighted avg       0.67      0.82      0.73     84097\n",
      "\n"
     ]
    }
   ],
   "source": [
    "print('Results: Logistic Regression')\n",
    "print('Scaling: X')\n",
    "print(f'Using cols: {select_cols[1:]}')\n",
    "print('---------------------------')\n",
    "\n",
    "print(classification_report(y_test, y_pred_lr))"
   ]
  },
  {
   "cell_type": "code",
   "execution_count": 43,
   "id": "114720c7",
   "metadata": {},
   "outputs": [
    {
     "name": "stdout",
     "output_type": "stream",
     "text": [
      "Results: Logistic Regression\n",
      "Scaling: min-max\n",
      "Using cols: ['annual_inc', 'dti']\n",
      "---------------------------\n",
      "              precision    recall  f1-score   support\n",
      "\n",
      "           0       0.82      1.00      0.90     68609\n",
      "           1       0.00      0.00      0.00     15488\n",
      "\n",
      "    accuracy                           0.82     84097\n",
      "   macro avg       0.41      0.50      0.45     84097\n",
      "weighted avg       0.67      0.82      0.73     84097\n",
      "\n"
     ]
    }
   ],
   "source": [
    "print('Results: Logistic Regression')\n",
    "print('Scaling: min-max')\n",
    "print(f'Using cols: {select_cols[1:]}')\n",
    "print('---------------------------')\n",
    "\n",
    "print(classification_report(y_test, y_pred_lr))"
   ]
  },
  {
   "cell_type": "code",
   "execution_count": 54,
   "id": "55ea4d45",
   "metadata": {},
   "outputs": [
    {
     "name": "stdout",
     "output_type": "stream",
     "text": [
      "Results: Logistic Regression\n",
      "Scaling: X\n",
      "Using cols: ['annual_inc', 'dti', 'loan_amnt']\n",
      "---------------------------\n",
      "              precision    recall  f1-score   support\n",
      "\n",
      "           0       0.82      1.00      0.90     68609\n",
      "           1       0.00      0.00      0.00     15488\n",
      "\n",
      "    accuracy                           0.82     84097\n",
      "   macro avg       0.41      0.50      0.45     84097\n",
      "weighted avg       0.67      0.82      0.73     84097\n",
      "\n"
     ]
    }
   ],
   "source": [
    "print('Results: Logistic Regression')\n",
    "print('Scaling: X')\n",
    "print(f'Using cols: {select_cols[1:]}')\n",
    "print('---------------------------')\n",
    "\n",
    "print(classification_report(y_test, y_pred_lr))"
   ]
  },
  {
   "cell_type": "code",
   "execution_count": 56,
   "id": "3bcd97cd",
   "metadata": {},
   "outputs": [
    {
     "name": "stdout",
     "output_type": "stream",
     "text": [
      "Results: Logistic Regression\n",
      "Scaling: min-max\n",
      "Using cols: ['annual_inc', 'dti', 'loan_amnt']\n",
      "---------------------------\n",
      "              precision    recall  f1-score   support\n",
      "\n",
      "           0       0.82      1.00      0.90     68609\n",
      "           1       0.00      0.00      0.00     15488\n",
      "\n",
      "    accuracy                           0.82     84097\n",
      "   macro avg       0.41      0.50      0.45     84097\n",
      "weighted avg       0.67      0.82      0.73     84097\n",
      "\n"
     ]
    }
   ],
   "source": [
    "print('Results: Logistic Regression')\n",
    "print('Scaling: min-max')\n",
    "print(f'Using cols: {select_cols[1:]}')\n",
    "print('---------------------------')\n",
    "\n",
    "print(classification_report(y_test, y_pred_lr))"
   ]
  },
  {
   "cell_type": "code",
   "execution_count": 68,
   "id": "84791b9e",
   "metadata": {},
   "outputs": [
    {
     "name": "stdout",
     "output_type": "stream",
     "text": [
      "Results: Logistic Regression\n",
      "Scaling: X\n",
      "Using cols: ['annual_inc', 'dti', 'loan_amnt', 'revol_bal', 'revol_util']\n",
      "---------------------------\n",
      "              precision    recall  f1-score   support\n",
      "\n",
      "           0       0.82      1.00      0.90     68583\n",
      "           1       0.00      0.00      0.00     15481\n",
      "\n",
      "    accuracy                           0.82     84064\n",
      "   macro avg       0.41      0.50      0.45     84064\n",
      "weighted avg       0.67      0.82      0.73     84064\n",
      "\n"
     ]
    }
   ],
   "source": [
    "print('Results: Logistic Regression')\n",
    "print('Scaling: X')\n",
    "print(f'Using cols: {select_cols[1:]}')\n",
    "print('---------------------------')\n",
    "\n",
    "print(classification_report(y_test, y_pred_lr))"
   ]
  },
  {
   "cell_type": "code",
   "execution_count": 70,
   "id": "fb945d7d",
   "metadata": {},
   "outputs": [
    {
     "name": "stdout",
     "output_type": "stream",
     "text": [
      "Results: Logistic Regression\n",
      "Scaling: min-max\n",
      "Using cols: ['annual_inc', 'dti', 'loan_amnt', 'revol_bal', 'revol_util']\n",
      "---------------------------\n",
      "              precision    recall  f1-score   support\n",
      "\n",
      "           0       0.82      1.00      0.90     68583\n",
      "           1       0.00      0.00      0.00     15481\n",
      "\n",
      "    accuracy                           0.82     84064\n",
      "   macro avg       0.41      0.50      0.45     84064\n",
      "weighted avg       0.67      0.82      0.73     84064\n",
      "\n"
     ]
    }
   ],
   "source": [
    "print('Results: Logistic Regression')\n",
    "print('Scaling: min-max')\n",
    "print(f'Using cols: {select_cols[1:]}')\n",
    "print('---------------------------')\n",
    "\n",
    "print(classification_report(y_test, y_pred_lr))"
   ]
  },
  {
   "cell_type": "code",
   "execution_count": 82,
   "id": "ed7e87cb",
   "metadata": {},
   "outputs": [
    {
     "name": "stdout",
     "output_type": "stream",
     "text": [
      "Results: Logistic Regression\n",
      "Scaling: X\n",
      "Using cols: ['annual_inc', 'dti', 'loan_amnt', 'revol_bal', 'revol_util', 'term', 'grade']\n",
      "---------------------------\n",
      "              precision    recall  f1-score   support\n",
      "\n",
      "           0       0.82      1.00      0.90     68583\n",
      "           1       1.00      0.00      0.00     15481\n",
      "\n",
      "    accuracy                           0.82     84064\n",
      "   macro avg       0.91      0.50      0.45     84064\n",
      "weighted avg       0.85      0.82      0.73     84064\n",
      "\n"
     ]
    }
   ],
   "source": [
    "print('Results: Logistic Regression')\n",
    "print('Scaling: X')\n",
    "print(f'Using cols: {select_cols[1:]}')\n",
    "print('---------------------------')\n",
    "\n",
    "print(classification_report(y_test, y_pred_lr))"
   ]
  },
  {
   "cell_type": "code",
   "execution_count": 84,
   "id": "60851a5d",
   "metadata": {},
   "outputs": [
    {
     "name": "stdout",
     "output_type": "stream",
     "text": [
      "Results: Logistic Regression\n",
      "Scaling: min-max\n",
      "Using cols: ['annual_inc', 'dti', 'loan_amnt', 'revol_bal', 'revol_util', 'term', 'grade']\n",
      "---------------------------\n",
      "              precision    recall  f1-score   support\n",
      "\n",
      "           0       0.82      1.00      0.90     68583\n",
      "           1       0.53      0.01      0.01     15481\n",
      "\n",
      "    accuracy                           0.82     84064\n",
      "   macro avg       0.68      0.50      0.46     84064\n",
      "weighted avg       0.76      0.82      0.74     84064\n",
      "\n"
     ]
    }
   ],
   "source": [
    "print('Results: Logistic Regression')\n",
    "print('Scaling: min-max')\n",
    "print(f'Using cols: {select_cols[1:]}')\n",
    "print('---------------------------')\n",
    "\n",
    "print(classification_report(y_test, y_pred_lr))"
   ]
  },
  {
   "cell_type": "code",
   "execution_count": 96,
   "id": "e5142a7d",
   "metadata": {},
   "outputs": [
    {
     "name": "stdout",
     "output_type": "stream",
     "text": [
      "Results: Logistic Regression\n",
      "Scaling: X\n",
      "Using cols: ['annual_inc', 'dti', 'loan_amnt', 'revol_bal', 'revol_util', 'term', 'grade', 'emp_length', 'sub_grade']\n",
      "---------------------------\n",
      "              precision    recall  f1-score   support\n",
      "\n",
      "           0       0.82      0.99      0.90     64944\n",
      "           1       0.50      0.03      0.06     14361\n",
      "\n",
      "    accuracy                           0.82     79305\n",
      "   macro avg       0.66      0.51      0.48     79305\n",
      "weighted avg       0.76      0.82      0.75     79305\n",
      "\n"
     ]
    }
   ],
   "source": [
    "print('Results: Logistic Regression')\n",
    "print('Scaling: X')\n",
    "print(f'Using cols: {select_cols[1:]}')\n",
    "print('---------------------------')\n",
    "\n",
    "print(classification_report(y_test, y_pred_lr))"
   ]
  },
  {
   "cell_type": "code",
   "execution_count": 98,
   "id": "8492460b",
   "metadata": {},
   "outputs": [
    {
     "name": "stdout",
     "output_type": "stream",
     "text": [
      "Results: Logistic Regression\n",
      "Scaling: min-max\n",
      "Using cols: ['annual_inc', 'dti', 'loan_amnt', 'revol_bal', 'revol_util', 'term', 'grade', 'emp_length', 'sub_grade']\n",
      "---------------------------\n",
      "              precision    recall  f1-score   support\n",
      "\n",
      "           0       0.82      1.00      0.90     64944\n",
      "           1       0.50      0.01      0.02     14361\n",
      "\n",
      "    accuracy                           0.82     79305\n",
      "   macro avg       0.66      0.50      0.46     79305\n",
      "weighted avg       0.76      0.82      0.74     79305\n",
      "\n"
     ]
    }
   ],
   "source": [
    "print('Results: Logistic Regression')\n",
    "print('Scaling: min-max')\n",
    "print(f'Using cols: {select_cols[1:]}')\n",
    "print('---------------------------')\n",
    "\n",
    "print(classification_report(y_test, y_pred_lr))"
   ]
  },
  {
   "cell_type": "code",
   "execution_count": 113,
   "id": "f8d3285b",
   "metadata": {},
   "outputs": [
    {
     "name": "stdout",
     "output_type": "stream",
     "text": [
      "Results: Logistic Regression\n",
      "Scaling: X\n",
      "Using cols: ['annual_inc', 'dti', 'loan_amnt', 'revol_bal', 'revol_util', 'term', 'grade', 'home_ownership', 'emp_length', 'sub_grade']\n",
      "---------------------------\n",
      "              precision    recall  f1-score   support\n",
      "\n",
      "           0       0.82      0.99      0.90     64944\n",
      "           1       0.51      0.03      0.06     14361\n",
      "\n",
      "    accuracy                           0.82     79305\n",
      "   macro avg       0.66      0.51      0.48     79305\n",
      "weighted avg       0.77      0.82      0.75     79305\n",
      "\n"
     ]
    }
   ],
   "source": [
    "print('Results: Logistic Regression')\n",
    "print('Scaling: X')\n",
    "print(f'Using cols: {select_cols[1:]}')\n",
    "print('---------------------------')\n",
    "\n",
    "print(classification_report(y_test, y_pred_lr))"
   ]
  },
  {
   "cell_type": "code",
   "execution_count": 119,
   "id": "37d79d05",
   "metadata": {},
   "outputs": [
    {
     "name": "stdout",
     "output_type": "stream",
     "text": [
      "Results: Logistic Regression\n",
      "Scaling: min-max\n",
      "Using cols: ['annual_inc', 'dti', 'loan_amnt', 'revol_bal', 'revol_util', 'term', 'grade', 'home_ownership', 'emp_length', 'sub_grade']\n",
      "---------------------------\n",
      "              precision    recall  f1-score   support\n",
      "\n",
      "           0       0.82      1.00      0.90     64944\n",
      "           1       0.53      0.02      0.03     14361\n",
      "\n",
      "    accuracy                           0.82     79305\n",
      "   macro avg       0.68      0.51      0.47     79305\n",
      "weighted avg       0.77      0.82      0.74     79305\n",
      "\n",
      "======================================\n",
      "Results: Random Forest Classifier\n",
      "Scaling: min-max\n",
      "Using cols: ['annual_inc', 'dti', 'loan_amnt', 'revol_bal', 'revol_util', 'term', 'grade', 'home_ownership', 'emp_length', 'sub_grade']\n",
      "---------------------------\n",
      "              precision    recall  f1-score   support\n",
      "\n",
      "           0       0.82      0.99      0.90     64944\n",
      "           1       0.46      0.05      0.09     14361\n",
      "\n",
      "    accuracy                           0.82     79305\n",
      "   macro avg       0.64      0.52      0.50     79305\n",
      "weighted avg       0.76      0.82      0.75     79305\n",
      "\n",
      "======================================\n",
      "Results: XGBoost Classifier\n",
      "Scaling: min-max\n",
      "Using cols: ['annual_inc', 'dti', 'loan_amnt', 'revol_bal', 'revol_util', 'term', 'grade', 'home_ownership', 'emp_length', 'sub_grade']\n",
      "---------------------------\n",
      "              precision    recall  f1-score   support\n",
      "\n",
      "           0       0.82      0.99      0.90     64944\n",
      "           1       0.51      0.04      0.07     14361\n",
      "\n",
      "    accuracy                           0.82     79305\n",
      "   macro avg       0.67      0.52      0.49     79305\n",
      "weighted avg       0.77      0.82      0.75     79305\n",
      "\n"
     ]
    }
   ],
   "source": [
    "print('Results: Logistic Regression')\n",
    "print('Scaling: min-max')\n",
    "print(f'Using cols: {select_cols[1:]}')\n",
    "print('---------------------------')\n",
    "\n",
    "print(classification_report(y_test, y_pred_lr))\n",
    "\n",
    "print('======================================')\n",
    "\n",
    "print('Results: Random Forest Classifier')\n",
    "print('Scaling: min-max')\n",
    "print(f'Using cols: {select_cols[1:]}')\n",
    "print('---------------------------')\n",
    "\n",
    "print(classification_report(y_test, y_pred_rfc))\n",
    "\n",
    "print('======================================')\n",
    "\n",
    "print('Results: XGBoost Classifier')\n",
    "print('Scaling: min-max')\n",
    "print(f'Using cols: {select_cols[1:]}')\n",
    "print('---------------------------')\n",
    "\n",
    "print(classification_report(y_test, y_pred_xgbc))"
   ]
  },
  {
   "cell_type": "code",
   "execution_count": null,
   "id": "db586f22",
   "metadata": {},
   "outputs": [],
   "source": []
  }
 ],
 "metadata": {
  "kernelspec": {
   "display_name": ".venv (3.12.3)",
   "language": "python",
   "name": "python3"
  },
  "language_info": {
   "codemirror_mode": {
    "name": "ipython",
    "version": 3
   },
   "file_extension": ".py",
   "mimetype": "text/x-python",
   "name": "python",
   "nbconvert_exporter": "python",
   "pygments_lexer": "ipython3",
   "version": "3.12.3"
  }
 },
 "nbformat": 4,
 "nbformat_minor": 5
}
